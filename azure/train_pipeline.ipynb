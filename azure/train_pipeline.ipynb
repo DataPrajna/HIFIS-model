{
 "cells": [
  {
   "cell_type": "markdown",
   "metadata": {},
   "source": [
    "# Azure ML Training Pipeline for HIFIS-v2\n",
    "This notebook defines an Azure machine learning pipeline for a multi-train experiment and submits the pipeline as an experiment to be run on an Azure virtual machine. It then publishes the pipeline in the workspace."
   ]
  },
  {
   "cell_type": "code",
   "execution_count": 2,
   "metadata": {},
   "outputs": [],
   "source": [
    "!az account set -s 420a455c-1665-42a0-8bfe-d4cda6da7fdc"
   ]
  },
  {
   "cell_type": "code",
   "execution_count": 3,
   "metadata": {},
   "outputs": [
    {
     "name": "stderr",
     "output_type": "stream",
     "text": [
      "Failure while loading azureml_run_type_providers. Failed to load entrypoint hyperdrive = azureml.train.hyperdrive:HyperDriveRun._from_run_dto with exception (azureml-core 1.4.0.post1 (c:\\users\\blake\\anaconda3\\lib\\site-packages), Requirement.parse('azureml-core~=1.2.0'), {'azureml-telemetry'}).\n"
     ]
    }
   ],
   "source": [
    "# Import statements\n",
    "import azureml.core\n",
    "from azureml.core import Experiment\n",
    "from azureml.core import Workspace, Datastore\n",
    "from azureml.data.data_reference import DataReference\n",
    "from azureml.pipeline.core import PipelineData\n",
    "from azureml.pipeline.core import Pipeline\n",
    "from azureml.pipeline.steps import PythonScriptStep, EstimatorStep\n",
    "from azureml.train.dnn import TensorFlow\n",
    "from azureml.train.estimator import Estimator\n",
    "from azureml.core.compute import ComputeTarget, AmlCompute\n",
    "from azureml.core.compute_target import ComputeTargetException\n",
    "from azureml.core.environment import Environment\n",
    "from azureml.core.runconfig import RunConfiguration\n",
    "import shutil\n",
    "import datetime"
   ]
  },
  {
   "cell_type": "markdown",
   "metadata": {},
   "source": [
    "### Register the workspace and configure its Python environment."
   ]
  },
  {
   "cell_type": "code",
   "execution_count": 4,
   "metadata": {},
   "outputs": [
    {
     "name": "stderr",
     "output_type": "stream",
     "text": [
      "WARNING - Note, we have launched a browser for you to login. For old experience with device code, use \"az login --use-device-code\"\n"
     ]
    },
    {
     "name": "stdout",
     "output_type": "stream",
     "text": [
      "Performing interactive authentication. Please follow the instructions on the terminal.\n"
     ]
    },
    {
     "name": "stderr",
     "output_type": "stream",
     "text": [
      "WARNING - You have logged in. Now let us find all the subscriptions to which you have access...\n"
     ]
    },
    {
     "name": "stdout",
     "output_type": "stream",
     "text": [
      "Interactive authentication successfully completed.\n"
     ]
    },
    {
     "ename": "UserErrorException",
     "evalue": "UserErrorException:\n\tMessage: You are currently logged-in to 7d17cfca-f750-491c-bfd8-ca865688ebd1 tenant. You don't have access to 420a455c-1665-42a0-8bfe-d4cda6da7fdc subscription, please check if it is in this tenant. All the subscriptions that you have access to in this tenant are = \n [SubscriptionInfo(subscription_name='Pay-As-You-Go', subscription_id='4d8a1c27-3a23-4f81-8fec-5b598044652e')]. \n Please refer to aka.ms/aml-notebook-auth for different authentication mechanisms in azureml-sdk.\n\tInnerException None\n\tErrorResponse \n{\n    \"error\": {\n        \"code\": \"UserError\",\n        \"message\": \"You are currently logged-in to 7d17cfca-f750-491c-bfd8-ca865688ebd1 tenant. You don't have access to 420a455c-1665-42a0-8bfe-d4cda6da7fdc subscription, please check if it is in this tenant. All the subscriptions that you have access to in this tenant are = \\n [SubscriptionInfo(subscription_name='Pay-As-You-Go', subscription_id='4d8a1c27-3a23-4f81-8fec-5b598044652e')]. \\n Please refer to aka.ms/aml-notebook-auth for different authentication mechanisms in azureml-sdk.\"\n    }\n}",
     "output_type": "error",
     "traceback": [
      "\u001b[1;31m---------------------------------------------------------------------------\u001b[0m",
      "\u001b[1;31mUserErrorException\u001b[0m                        Traceback (most recent call last)",
      "\u001b[1;32m~\\Anaconda3\\lib\\site-packages\\azureml\\core\\authentication.py\u001b[0m in \u001b[0;36mwrapper\u001b[1;34m(self, *args, **kwargs)\u001b[0m\n\u001b[0;32m    275\u001b[0m                     \u001b[0mmodule_logger\u001b[0m\u001b[1;33m.\u001b[0m\u001b[0mdebug\u001b[0m\u001b[1;33m(\u001b[0m\u001b[1;34m\"{} acquired lock in {} s.\"\u001b[0m\u001b[1;33m.\u001b[0m\u001b[0mformat\u001b[0m\u001b[1;33m(\u001b[0m\u001b[0mtype\u001b[0m\u001b[1;33m(\u001b[0m\u001b[0mself\u001b[0m\u001b[1;33m)\u001b[0m\u001b[1;33m.\u001b[0m\u001b[0m__name__\u001b[0m\u001b[1;33m,\u001b[0m \u001b[0mduration\u001b[0m\u001b[1;33m)\u001b[0m\u001b[1;33m)\u001b[0m\u001b[1;33m\u001b[0m\u001b[1;33m\u001b[0m\u001b[0m\n\u001b[1;32m--> 276\u001b[1;33m                 \u001b[1;32mreturn\u001b[0m \u001b[0mtest_function\u001b[0m\u001b[1;33m(\u001b[0m\u001b[0mself\u001b[0m\u001b[1;33m,\u001b[0m \u001b[1;33m*\u001b[0m\u001b[0margs\u001b[0m\u001b[1;33m,\u001b[0m \u001b[1;33m**\u001b[0m\u001b[0mkwargs\u001b[0m\u001b[1;33m)\u001b[0m\u001b[1;33m\u001b[0m\u001b[1;33m\u001b[0m\u001b[0m\n\u001b[0m\u001b[0;32m    277\u001b[0m             \u001b[1;32mexcept\u001b[0m \u001b[0mException\u001b[0m \u001b[1;32mas\u001b[0m \u001b[0me\u001b[0m\u001b[1;33m:\u001b[0m\u001b[1;33m\u001b[0m\u001b[1;33m\u001b[0m\u001b[0m\n",
      "\u001b[1;32m~\\Anaconda3\\lib\\site-packages\\azureml\\core\\authentication.py\u001b[0m in \u001b[0;36m_check_if_subscription_exists\u001b[1;34m(self, subscription_id, subscription_id_list, tenant_id)\u001b[0m\n\u001b[0;32m    482\u001b[0m         super(InteractiveLoginAuthentication, self)._check_if_subscription_exists(subscription_id,\n\u001b[1;32m--> 483\u001b[1;33m                                                                                   subscription_id_list, tenant_id)\n\u001b[0m\u001b[0;32m    484\u001b[0m \u001b[1;33m\u001b[0m\u001b[0m\n",
      "\u001b[1;32m~\\Anaconda3\\lib\\site-packages\\azureml\\core\\authentication.py\u001b[0m in \u001b[0;36m_check_if_subscription_exists\u001b[1;34m(self, subscription_id, subscription_id_list, tenant_id)\u001b[0m\n\u001b[0;32m    229\u001b[0m                                                                                         \u001b[0msubscription_id\u001b[0m\u001b[1;33m,\u001b[0m\u001b[1;33m\u001b[0m\u001b[1;33m\u001b[0m\u001b[0m\n\u001b[1;32m--> 230\u001b[1;33m                                                                                         subscription_id_list))\n\u001b[0m\u001b[0;32m    231\u001b[0m \u001b[1;33m\u001b[0m\u001b[0m\n",
      "\u001b[1;31mUserErrorException\u001b[0m: UserErrorException:\n\tMessage: You are currently logged-in to 7d17cfca-f750-491c-bfd8-ca865688ebd1 tenant. You don't have access to 420a455c-1665-42a0-8bfe-d4cda6da7fdc subscription, please check if it is in this tenant. All the subscriptions that you have access to in this tenant are = \n [SubscriptionInfo(subscription_name='Pay-As-You-Go', subscription_id='4d8a1c27-3a23-4f81-8fec-5b598044652e')]. \n Please refer to aka.ms/aml-notebook-auth for different authentication mechanisms in azureml-sdk.\n\tInnerException None\n\tErrorResponse \n{\n    \"error\": {\n        \"code\": \"UserError\",\n        \"message\": \"You are currently logged-in to 7d17cfca-f750-491c-bfd8-ca865688ebd1 tenant. You don't have access to 420a455c-1665-42a0-8bfe-d4cda6da7fdc subscription, please check if it is in this tenant. All the subscriptions that you have access to in this tenant are = \\n [SubscriptionInfo(subscription_name='Pay-As-You-Go', subscription_id='4d8a1c27-3a23-4f81-8fec-5b598044652e')]. \\n Please refer to aka.ms/aml-notebook-auth for different authentication mechanisms in azureml-sdk.\"\n    }\n}",
      "\nDuring handling of the above exception, another exception occurred:\n",
      "\u001b[1;31mUserErrorException\u001b[0m                        Traceback (most recent call last)",
      "\u001b[1;32m<ipython-input-4-ee496e3e0dfe>\u001b[0m in \u001b[0;36m<module>\u001b[1;34m\u001b[0m\n\u001b[0;32m      1\u001b[0m \u001b[1;31m# Get reference to the workspace\u001b[0m\u001b[1;33m\u001b[0m\u001b[1;33m\u001b[0m\u001b[1;33m\u001b[0m\u001b[0m\n\u001b[1;32m----> 2\u001b[1;33m \u001b[0mws\u001b[0m \u001b[1;33m=\u001b[0m \u001b[0mWorkspace\u001b[0m\u001b[1;33m.\u001b[0m\u001b[0mfrom_config\u001b[0m\u001b[1;33m(\u001b[0m\u001b[1;34m\"./ws_config.json\"\u001b[0m\u001b[1;33m)\u001b[0m\u001b[1;33m\u001b[0m\u001b[1;33m\u001b[0m\u001b[0m\n\u001b[0m\u001b[0;32m      3\u001b[0m \u001b[1;33m\u001b[0m\u001b[0m\n\u001b[0;32m      4\u001b[0m \u001b[1;31m# Set workspace's environment\u001b[0m\u001b[1;33m\u001b[0m\u001b[1;33m\u001b[0m\u001b[1;33m\u001b[0m\u001b[0m\n\u001b[0;32m      5\u001b[0m \u001b[0menv\u001b[0m \u001b[1;33m=\u001b[0m \u001b[0mEnvironment\u001b[0m\u001b[1;33m.\u001b[0m\u001b[0mfrom_pip_requirements\u001b[0m\u001b[1;33m(\u001b[0m\u001b[0mname\u001b[0m \u001b[1;33m=\u001b[0m \u001b[1;34m\"HIFIS_env\"\u001b[0m\u001b[1;33m,\u001b[0m \u001b[0mfile_path\u001b[0m \u001b[1;33m=\u001b[0m \u001b[1;34m\"./../requirements.txt\"\u001b[0m\u001b[1;33m)\u001b[0m\u001b[1;33m\u001b[0m\u001b[1;33m\u001b[0m\u001b[0m\n",
      "\u001b[1;32m~\\Anaconda3\\lib\\site-packages\\azureml\\core\\workspace.py\u001b[0m in \u001b[0;36mfrom_config\u001b[1;34m(path, auth, _logger, _file_name)\u001b[0m\n\u001b[0;32m    263\u001b[0m \u001b[1;33m\u001b[0m\u001b[0m\n\u001b[0;32m    264\u001b[0m         \u001b[0m_logger\u001b[0m\u001b[1;33m.\u001b[0m\u001b[0minfo\u001b[0m\u001b[1;33m(\u001b[0m\u001b[1;34m'Found the config file in: %s'\u001b[0m\u001b[1;33m,\u001b[0m \u001b[0mfound_path\u001b[0m\u001b[1;33m)\u001b[0m\u001b[1;33m\u001b[0m\u001b[1;33m\u001b[0m\u001b[0m\n\u001b[1;32m--> 265\u001b[1;33m         \u001b[1;32mreturn\u001b[0m \u001b[0mWorkspace\u001b[0m\u001b[1;33m.\u001b[0m\u001b[0mget\u001b[0m\u001b[1;33m(\u001b[0m\u001b[0mworkspace_name\u001b[0m\u001b[1;33m,\u001b[0m \u001b[0mauth\u001b[0m\u001b[1;33m=\u001b[0m\u001b[0mauth\u001b[0m\u001b[1;33m,\u001b[0m \u001b[0msubscription_id\u001b[0m\u001b[1;33m=\u001b[0m\u001b[0msubscription_id\u001b[0m\u001b[1;33m,\u001b[0m \u001b[0mresource_group\u001b[0m\u001b[1;33m=\u001b[0m\u001b[0mresource_group\u001b[0m\u001b[1;33m)\u001b[0m\u001b[1;33m\u001b[0m\u001b[1;33m\u001b[0m\u001b[0m\n\u001b[0m\u001b[0;32m    266\u001b[0m \u001b[1;33m\u001b[0m\u001b[0m\n\u001b[0;32m    267\u001b[0m     \u001b[1;33m@\u001b[0m\u001b[0mstaticmethod\u001b[0m\u001b[1;33m\u001b[0m\u001b[1;33m\u001b[0m\u001b[0m\n",
      "\u001b[1;32m~\\Anaconda3\\lib\\site-packages\\azureml\\core\\workspace.py\u001b[0m in \u001b[0;36mget\u001b[1;34m(name, auth, subscription_id, resource_group)\u001b[0m\n\u001b[0;32m    481\u001b[0m             \u001b[0mauth\u001b[0m \u001b[1;33m=\u001b[0m \u001b[0mInteractiveLoginAuthentication\u001b[0m\u001b[1;33m(\u001b[0m\u001b[1;33m)\u001b[0m\u001b[1;33m\u001b[0m\u001b[1;33m\u001b[0m\u001b[0m\n\u001b[0;32m    482\u001b[0m \u001b[1;33m\u001b[0m\u001b[0m\n\u001b[1;32m--> 483\u001b[1;33m         \u001b[0mresult_dict\u001b[0m \u001b[1;33m=\u001b[0m \u001b[0mWorkspace\u001b[0m\u001b[1;33m.\u001b[0m\u001b[0mlist\u001b[0m\u001b[1;33m(\u001b[0m\u001b[0msubscription_id\u001b[0m\u001b[1;33m,\u001b[0m \u001b[0mauth\u001b[0m\u001b[1;33m=\u001b[0m\u001b[0mauth\u001b[0m\u001b[1;33m,\u001b[0m \u001b[0mresource_group\u001b[0m\u001b[1;33m=\u001b[0m\u001b[0mresource_group\u001b[0m\u001b[1;33m)\u001b[0m\u001b[1;33m\u001b[0m\u001b[1;33m\u001b[0m\u001b[0m\n\u001b[0m\u001b[0;32m    484\u001b[0m         \u001b[0mresult_dict\u001b[0m \u001b[1;33m=\u001b[0m \u001b[1;33m{\u001b[0m\u001b[0mk\u001b[0m\u001b[1;33m.\u001b[0m\u001b[0mlower\u001b[0m\u001b[1;33m(\u001b[0m\u001b[1;33m)\u001b[0m\u001b[1;33m:\u001b[0m \u001b[0mv\u001b[0m \u001b[1;32mfor\u001b[0m \u001b[0mk\u001b[0m\u001b[1;33m,\u001b[0m \u001b[0mv\u001b[0m \u001b[1;32min\u001b[0m \u001b[0mresult_dict\u001b[0m\u001b[1;33m.\u001b[0m\u001b[0mitems\u001b[0m\u001b[1;33m(\u001b[0m\u001b[1;33m)\u001b[0m\u001b[1;33m}\u001b[0m\u001b[1;33m\u001b[0m\u001b[1;33m\u001b[0m\u001b[0m\n\u001b[0;32m    485\u001b[0m         \u001b[0mname\u001b[0m \u001b[1;33m=\u001b[0m \u001b[0mname\u001b[0m\u001b[1;33m.\u001b[0m\u001b[0mlower\u001b[0m\u001b[1;33m(\u001b[0m\u001b[1;33m)\u001b[0m\u001b[1;33m\u001b[0m\u001b[1;33m\u001b[0m\u001b[0m\n",
      "\u001b[1;32m~\\Anaconda3\\lib\\site-packages\\azureml\\core\\workspace.py\u001b[0m in \u001b[0;36mlist\u001b[1;34m(subscription_id, auth, resource_group)\u001b[0m\n\u001b[0;32m    557\u001b[0m         \u001b[1;32melif\u001b[0m \u001b[0msubscription_id\u001b[0m \u001b[1;32mand\u001b[0m \u001b[0mresource_group\u001b[0m\u001b[1;33m:\u001b[0m\u001b[1;33m\u001b[0m\u001b[1;33m\u001b[0m\u001b[0m\n\u001b[0;32m    558\u001b[0m             workspaces_list = Workspace._list_legacy(auth, subscription_id=subscription_id,\n\u001b[1;32m--> 559\u001b[1;33m                                                      resource_group_name=resource_group)\n\u001b[0m\u001b[0;32m    560\u001b[0m \u001b[1;33m\u001b[0m\u001b[0m\n\u001b[0;32m    561\u001b[0m             \u001b[0mWorkspace\u001b[0m\u001b[1;33m.\u001b[0m\u001b[0m_process_autorest_workspace_list\u001b[0m\u001b[1;33m(\u001b[0m\u001b[0mauth\u001b[0m\u001b[1;33m,\u001b[0m \u001b[0mworkspaces_list\u001b[0m\u001b[1;33m,\u001b[0m \u001b[0mresult_dict\u001b[0m\u001b[1;33m)\u001b[0m\u001b[1;33m\u001b[0m\u001b[1;33m\u001b[0m\u001b[0m\n",
      "\u001b[1;32m~\\Anaconda3\\lib\\site-packages\\azureml\\core\\workspace.py\u001b[0m in \u001b[0;36m_list_legacy\u001b[1;34m(auth, subscription_id, resource_group_name, ignore_error)\u001b[0m\n\u001b[0;32m   1105\u001b[0m                 \u001b[1;32mreturn\u001b[0m \u001b[1;32mNone\u001b[0m\u001b[1;33m\u001b[0m\u001b[1;33m\u001b[0m\u001b[0m\n\u001b[0;32m   1106\u001b[0m             \u001b[1;32melse\u001b[0m\u001b[1;33m:\u001b[0m\u001b[1;33m\u001b[0m\u001b[1;33m\u001b[0m\u001b[0m\n\u001b[1;32m-> 1107\u001b[1;33m                 \u001b[1;32mraise\u001b[0m \u001b[0me\u001b[0m\u001b[1;33m\u001b[0m\u001b[1;33m\u001b[0m\u001b[0m\n\u001b[0m\u001b[0;32m   1108\u001b[0m \u001b[1;33m\u001b[0m\u001b[0m\n\u001b[0;32m   1109\u001b[0m     \u001b[1;33m@\u001b[0m\u001b[0mstaticmethod\u001b[0m\u001b[1;33m\u001b[0m\u001b[1;33m\u001b[0m\u001b[0m\n",
      "\u001b[1;32m~\\Anaconda3\\lib\\site-packages\\azureml\\core\\workspace.py\u001b[0m in \u001b[0;36m_list_legacy\u001b[1;34m(auth, subscription_id, resource_group_name, ignore_error)\u001b[0m\n\u001b[0;32m   1099\u001b[0m             \u001b[1;31m# A list of object of azureml._base_sdk_common.workspace.models.workspace.Workspace\u001b[0m\u001b[1;33m\u001b[0m\u001b[1;33m\u001b[0m\u001b[1;33m\u001b[0m\u001b[0m\n\u001b[0;32m   1100\u001b[0m             workspace_autorest_list = _commands.list_workspace(auth, subscription_id=subscription_id,\n\u001b[1;32m-> 1101\u001b[1;33m                                                                resource_group_name=resource_group_name)\n\u001b[0m\u001b[0;32m   1102\u001b[0m             \u001b[1;32mreturn\u001b[0m \u001b[0mworkspace_autorest_list\u001b[0m\u001b[1;33m\u001b[0m\u001b[1;33m\u001b[0m\u001b[0m\n\u001b[0;32m   1103\u001b[0m         \u001b[1;32mexcept\u001b[0m \u001b[0mException\u001b[0m \u001b[1;32mas\u001b[0m \u001b[0me\u001b[0m\u001b[1;33m:\u001b[0m\u001b[1;33m\u001b[0m\u001b[1;33m\u001b[0m\u001b[0m\n",
      "\u001b[1;32m~\\Anaconda3\\lib\\site-packages\\azureml\\_project\\_commands.py\u001b[0m in \u001b[0;36mlist_workspace\u001b[1;34m(auth, subscription_id, resource_group_name)\u001b[0m\n\u001b[0;32m    378\u001b[0m         \u001b[1;32mif\u001b[0m \u001b[0mresource_group_name\u001b[0m\u001b[1;33m:\u001b[0m\u001b[1;33m\u001b[0m\u001b[1;33m\u001b[0m\u001b[0m\n\u001b[0;32m    379\u001b[0m             list_object = WorkspacesOperations.list_by_resource_group(\n\u001b[1;32m--> 380\u001b[1;33m                 \u001b[0mauth\u001b[0m\u001b[1;33m.\u001b[0m\u001b[0m_get_service_client\u001b[0m\u001b[1;33m(\u001b[0m\u001b[0mAzureMachineLearningWorkspaces\u001b[0m\u001b[1;33m,\u001b[0m \u001b[0msubscription_id\u001b[0m\u001b[1;33m)\u001b[0m\u001b[1;33m.\u001b[0m\u001b[0mworkspaces\u001b[0m\u001b[1;33m,\u001b[0m\u001b[1;33m\u001b[0m\u001b[1;33m\u001b[0m\u001b[0m\n\u001b[0m\u001b[0;32m    381\u001b[0m                 resource_group_name)\n\u001b[0;32m    382\u001b[0m             \u001b[0mworkspace_list\u001b[0m \u001b[1;33m=\u001b[0m \u001b[0mlist_object\u001b[0m\u001b[1;33m.\u001b[0m\u001b[0mvalue\u001b[0m\u001b[1;33m\u001b[0m\u001b[1;33m\u001b[0m\u001b[0m\n",
      "\u001b[1;32m~\\Anaconda3\\lib\\site-packages\\azureml\\core\\authentication.py\u001b[0m in \u001b[0;36m_get_service_client\u001b[1;34m(self, client_class, subscription_id, subscription_bound, base_url)\u001b[0m\n\u001b[0;32m    143\u001b[0m         \u001b[1;32mif\u001b[0m \u001b[0msubscription_id\u001b[0m\u001b[1;33m:\u001b[0m\u001b[1;33m\u001b[0m\u001b[1;33m\u001b[0m\u001b[0m\n\u001b[0;32m    144\u001b[0m             \u001b[0mall_subscription_list\u001b[0m\u001b[1;33m,\u001b[0m \u001b[0mtenant_id\u001b[0m \u001b[1;33m=\u001b[0m \u001b[0mself\u001b[0m\u001b[1;33m.\u001b[0m\u001b[0m_get_all_subscription_ids\u001b[0m\u001b[1;33m(\u001b[0m\u001b[1;33m)\u001b[0m\u001b[1;33m\u001b[0m\u001b[1;33m\u001b[0m\u001b[0m\n\u001b[1;32m--> 145\u001b[1;33m             \u001b[0mself\u001b[0m\u001b[1;33m.\u001b[0m\u001b[0m_check_if_subscription_exists\u001b[0m\u001b[1;33m(\u001b[0m\u001b[0msubscription_id\u001b[0m\u001b[1;33m,\u001b[0m \u001b[0mall_subscription_list\u001b[0m\u001b[1;33m,\u001b[0m \u001b[0mtenant_id\u001b[0m\u001b[1;33m)\u001b[0m\u001b[1;33m\u001b[0m\u001b[1;33m\u001b[0m\u001b[0m\n\u001b[0m\u001b[0;32m    146\u001b[0m \u001b[1;33m\u001b[0m\u001b[0m\n\u001b[0;32m    147\u001b[0m         \u001b[1;32mif\u001b[0m \u001b[1;32mnot\u001b[0m \u001b[0mbase_url\u001b[0m\u001b[1;33m:\u001b[0m\u001b[1;33m\u001b[0m\u001b[1;33m\u001b[0m\u001b[0m\n",
      "\u001b[1;32m~\\Anaconda3\\lib\\site-packages\\azureml\\core\\authentication.py\u001b[0m in \u001b[0;36mwrapper\u001b[1;34m(self, *args, **kwargs)\u001b[0m\n\u001b[0;32m    280\u001b[0m                     \u001b[0mInteractiveLoginAuthentication\u001b[0m\u001b[1;33m(\u001b[0m\u001b[0mforce\u001b[0m\u001b[1;33m=\u001b[0m\u001b[1;32mTrue\u001b[0m\u001b[1;33m,\u001b[0m \u001b[0mtenant_id\u001b[0m\u001b[1;33m=\u001b[0m\u001b[0mself\u001b[0m\u001b[1;33m.\u001b[0m\u001b[0m_tenant_id\u001b[0m\u001b[1;33m)\u001b[0m\u001b[1;33m\u001b[0m\u001b[1;33m\u001b[0m\u001b[0m\n\u001b[0;32m    281\u001b[0m                     \u001b[1;31m# Try one more time\u001b[0m\u001b[1;33m\u001b[0m\u001b[1;33m\u001b[0m\u001b[1;33m\u001b[0m\u001b[0m\n\u001b[1;32m--> 282\u001b[1;33m                     \u001b[1;32mreturn\u001b[0m \u001b[0mtest_function\u001b[0m\u001b[1;33m(\u001b[0m\u001b[0mself\u001b[0m\u001b[1;33m,\u001b[0m \u001b[1;33m*\u001b[0m\u001b[0margs\u001b[0m\u001b[1;33m,\u001b[0m \u001b[1;33m**\u001b[0m\u001b[0mkwargs\u001b[0m\u001b[1;33m)\u001b[0m\u001b[1;33m\u001b[0m\u001b[1;33m\u001b[0m\u001b[0m\n\u001b[0m\u001b[0;32m    283\u001b[0m                 \u001b[1;32melse\u001b[0m\u001b[1;33m:\u001b[0m\u001b[1;33m\u001b[0m\u001b[1;33m\u001b[0m\u001b[0m\n\u001b[0;32m    284\u001b[0m                     \u001b[1;32mraise\u001b[0m \u001b[0me\u001b[0m\u001b[1;33m\u001b[0m\u001b[1;33m\u001b[0m\u001b[0m\n",
      "\u001b[1;32m~\\Anaconda3\\lib\\site-packages\\azureml\\core\\authentication.py\u001b[0m in \u001b[0;36m_check_if_subscription_exists\u001b[1;34m(self, subscription_id, subscription_id_list, tenant_id)\u001b[0m\n\u001b[0;32m    481\u001b[0m     \u001b[1;32mdef\u001b[0m \u001b[0m_check_if_subscription_exists\u001b[0m\u001b[1;33m(\u001b[0m\u001b[0mself\u001b[0m\u001b[1;33m,\u001b[0m \u001b[0msubscription_id\u001b[0m\u001b[1;33m,\u001b[0m \u001b[0msubscription_id_list\u001b[0m\u001b[1;33m,\u001b[0m \u001b[0mtenant_id\u001b[0m\u001b[1;33m)\u001b[0m\u001b[1;33m:\u001b[0m\u001b[1;33m\u001b[0m\u001b[1;33m\u001b[0m\u001b[0m\n\u001b[0;32m    482\u001b[0m         super(InteractiveLoginAuthentication, self)._check_if_subscription_exists(subscription_id,\n\u001b[1;32m--> 483\u001b[1;33m                                                                                   subscription_id_list, tenant_id)\n\u001b[0m\u001b[0;32m    484\u001b[0m \u001b[1;33m\u001b[0m\u001b[0m\n\u001b[0;32m    485\u001b[0m     \u001b[1;32mdef\u001b[0m \u001b[0m_get_ambient\u001b[0m\u001b[1;33m(\u001b[0m\u001b[0mself\u001b[0m\u001b[1;33m)\u001b[0m\u001b[1;33m:\u001b[0m\u001b[1;33m\u001b[0m\u001b[1;33m\u001b[0m\u001b[0m\n",
      "\u001b[1;32m~\\Anaconda3\\lib\\site-packages\\azureml\\core\\authentication.py\u001b[0m in \u001b[0;36m_check_if_subscription_exists\u001b[1;34m(self, subscription_id, subscription_id_list, tenant_id)\u001b[0m\n\u001b[0;32m    228\u001b[0m                                      \"authentication mechanisms in azureml-sdk.\".format(tenant_id,\n\u001b[0;32m    229\u001b[0m                                                                                         \u001b[0msubscription_id\u001b[0m\u001b[1;33m,\u001b[0m\u001b[1;33m\u001b[0m\u001b[1;33m\u001b[0m\u001b[0m\n\u001b[1;32m--> 230\u001b[1;33m                                                                                         subscription_id_list))\n\u001b[0m\u001b[0;32m    231\u001b[0m \u001b[1;33m\u001b[0m\u001b[0m\n\u001b[0;32m    232\u001b[0m \u001b[1;32mdef\u001b[0m \u001b[0m_login_on_failure_decorator\u001b[0m\u001b[1;33m(\u001b[0m\u001b[0mlock_to_use\u001b[0m\u001b[1;33m)\u001b[0m\u001b[1;33m:\u001b[0m\u001b[1;33m\u001b[0m\u001b[1;33m\u001b[0m\u001b[0m\n",
      "\u001b[1;31mUserErrorException\u001b[0m: UserErrorException:\n\tMessage: You are currently logged-in to 7d17cfca-f750-491c-bfd8-ca865688ebd1 tenant. You don't have access to 420a455c-1665-42a0-8bfe-d4cda6da7fdc subscription, please check if it is in this tenant. All the subscriptions that you have access to in this tenant are = \n [SubscriptionInfo(subscription_name='Pay-As-You-Go', subscription_id='4d8a1c27-3a23-4f81-8fec-5b598044652e')]. \n Please refer to aka.ms/aml-notebook-auth for different authentication mechanisms in azureml-sdk.\n\tInnerException None\n\tErrorResponse \n{\n    \"error\": {\n        \"code\": \"UserError\",\n        \"message\": \"You are currently logged-in to 7d17cfca-f750-491c-bfd8-ca865688ebd1 tenant. You don't have access to 420a455c-1665-42a0-8bfe-d4cda6da7fdc subscription, please check if it is in this tenant. All the subscriptions that you have access to in this tenant are = \\n [SubscriptionInfo(subscription_name='Pay-As-You-Go', subscription_id='4d8a1c27-3a23-4f81-8fec-5b598044652e')]. \\n Please refer to aka.ms/aml-notebook-auth for different authentication mechanisms in azureml-sdk.\"\n    }\n}"
     ]
    }
   ],
   "source": [
    "# Get reference to the workspace\n",
    "ws = Workspace.from_config(\"./ws_config.json\")\n",
    "\n",
    "# Set workspace's environment\n",
    "env = Environment.from_pip_requirements(name = \"HIFIS_env\", file_path = \"./../requirements.txt\")\n",
    "env.python.conda_dependencies.add_pip_package(\"azureml-core\")\n",
    "env.python.conda_dependencies.add_pip_package(\"sendgrid\")\n",
    "env.register(workspace=ws)\n",
    "runconfig = RunConfiguration(conda_dependencies=env.python.conda_dependencies)\n",
    "print(env.python.conda_dependencies.serialize_to_string())\n",
    "\n",
    "# Move AML ignore file to root folder\n",
    "aml_ignore_path = shutil.copy('./.amlignore', './../.amlignore') "
   ]
  },
  {
   "cell_type": "markdown",
   "metadata": {},
   "source": [
    "### Create references to persistent and intermediate data\n",
    "Create DataReference objects that point to our raw data on the blob. Configure a PipelineData object to point to preprocessed data stored on the blob. Pipeline data is intermediate, meaning that it is produced by a step and will be fed as input to a subsequent step."
   ]
  },
  {
   "cell_type": "code",
   "execution_count": null,
   "metadata": {},
   "outputs": [],
   "source": [
    "# Get the blob datastores associated with this workspace\n",
    "hifis_blob_ds = Datastore(ws, name='hifisv2_ds')\n",
    "raw_data_blob_ds = Datastore(ws, name='hifis_raw_ds')\n",
    "\n",
    "# Create data references to folders on the blobs\n",
    "raw_data_dr = DataReference(\n",
    "    datastore=raw_data_blob_ds,\n",
    "    data_reference_name=\"raw_data\",\n",
    "    path_on_datastore=\"hifis/\")\n",
    "inference_dr = DataReference(\n",
    "    datastore=hifis_blob_ds,\n",
    "    data_reference_name=\"inference\",\n",
    "    path_on_datastore=\"inference/\")\n",
    "outputs_dr = DataReference(\n",
    "    datastore=hifis_blob_ds,\n",
    "    data_reference_name=\"outputs\",\n",
    "    path_on_datastore=\"outputs/\")\n",
    "\n",
    "# Set up references to pipeline data (intermediate pipeline storage).\n",
    "preprocess_pd = PipelineData(\n",
    "    \"preprocessed_output\",\n",
    "    datastore=hifis_blob_ds,\n",
    "    output_name=\"preprocessed_output\",\n",
    "    output_mode=\"mount\")\n",
    "train_pd = PipelineData(\n",
    "    \"train_output\",\n",
    "    datastore=hifis_blob_ds,\n",
    "    output_name=\"train_output\",\n",
    "    output_mode=\"mount\")\n",
    "interpretability_pd = PipelineData(\n",
    "    \"interpretability_output\",\n",
    "    datastore=hifis_blob_ds,\n",
    "    output_name=\"interpretability_output\",\n",
    "    output_mode=\"mount\")"
   ]
  },
  {
   "cell_type": "markdown",
   "metadata": {},
   "source": [
    "### Compute Target\n",
    "Specify and configure the compute target for this workspace. If a compute cluster by the name we specified does not exist, create a new compute cluster."
   ]
  },
  {
   "cell_type": "code",
   "execution_count": null,
   "metadata": {},
   "outputs": [],
   "source": [
    "# Define some constants\n",
    "CT_NAME = \"ds3v2-train\"          # Name of our compute cluster\n",
    "VM_SIZE = \"STANDARD_DS3_V2\"      # Specify the Azure VM for execution of our pipeline\n",
    "MIN_NODES = 1                    # Min number of compute nodes in cluster\n",
    "MAX_NODES = 4                    # Max number of compute nodes in cluster\n",
    "\n",
    "# Set up the compute target for this experiment\n",
    "try:\n",
    "    compute_target = AmlCompute(ws, CT_NAME)\n",
    "    print(\"Found existing compute target.\")\n",
    "except ComputeTargetException:\n",
    "    print(\"Creating new compute target\")\n",
    "    provisioning_config = AmlCompute.provisioning_configuration(vm_size=VM_SIZE, min_nodes=MIN_NODES, max_nodes=MAX_NODES)    \n",
    "    compute_target = ComputeTarget.create(ws, CT_NAME, provisioning_config)  # Create the compute cluster\n",
    "    \n",
    "    # Wait for cluster to be provisioned\n",
    "    compute_target.wait_for_completion(show_output=True, min_node_count=None, timeout_in_minutes=20) \n",
    "    \n",
    "print(\"Azure Machine Learning Compute attached\")\n",
    "print(\"Compute targets: \", ws.compute_targets)\n",
    "compute_target = ws.compute_targets[CT_NAME]"
   ]
  },
  {
   "cell_type": "markdown",
   "metadata": {},
   "source": [
    "### Define pipeline and submit experiment.\n",
    "Define the steps of an Azure machine learning pipeline. Create an Azure Experiment that will run our pipeline. Submit the experiment to the execution environment."
   ]
  },
  {
   "cell_type": "code",
   "execution_count": null,
   "metadata": {},
   "outputs": [],
   "source": [
    "# Define preprocessing step in the ML pipeline\n",
    "step1 = PythonScriptStep(name=\"preprocess_step\",\n",
    "                         script_name=\"azure/preprocess_step/preprocess_step.py\",\n",
    "                         arguments=[\"--rawdatadir\", raw_data_dr, \"--inferencedatadir\", inference_dr, \"--preprocessedoutputdir\", \n",
    "                                    preprocess_pd],\n",
    "                         inputs=[raw_data_dr, inference_dr],\n",
    "                         outputs=[preprocess_pd],\n",
    "                         compute_target=compute_target, \n",
    "                         source_directory=\"./../\",\n",
    "                         runconfig=runconfig,\n",
    "                         params={\"PIPELINE\": \"train\"},\n",
    "                         allow_reuse=False)\n",
    "\n",
    "# Define training step in the ML pipeline\n",
    "est = TensorFlow(source_directory='./../',\n",
    "                   script_params=None,\n",
    "                   compute_target=compute_target,\n",
    "                   entry_script='azure/train_step/train_step.py',\n",
    "                   pip_packages=['tensorboard', 'pandas', 'dill', 'numpy', 'imblearn', 'matplotlib', 'tqdm', 'scikit-learn',\n",
    "                                'category_encoders'],\n",
    "                   use_gpu=True,\n",
    "                   framework_version='2.0')\n",
    "step2 = EstimatorStep(name=\"multi_train_step\", \n",
    "                      estimator=est, \n",
    "                      estimator_entry_script_arguments=[\"--preprocessedoutputdir\", preprocess_pd, \"--trainoutputdir\", train_pd],\n",
    "                      runconfig_pipeline_params=None, \n",
    "                      inputs=[preprocess_pd], \n",
    "                      outputs=[train_pd], \n",
    "                      compute_target=compute_target)\n",
    "\n",
    "# Define interpretability step in the ML pipeline\n",
    "step3 = PythonScriptStep(name=\"interpretability_step\",\n",
    "                         script_name=\"azure/interpretability_step/interpretability_step.py\",\n",
    "                         arguments=[\"--preprocessedoutputdir\", preprocess_pd, \"--trainoutputdir\", train_pd, \n",
    "                                    \"--interpretabilityoutputdir\", interpretability_pd],\n",
    "                         inputs=[preprocess_pd, train_pd],\n",
    "                         outputs=[interpretability_pd],\n",
    "                         compute_target=compute_target, \n",
    "                         source_directory=\"./../\",\n",
    "                         runconfig=runconfig,\n",
    "                         allow_reuse=False)\n",
    "\n",
    "# Define final step to save all produced files to persistent blob storage\n",
    "step4 = PythonScriptStep(name=\"save_step\",\n",
    "                         script_name=\"azure/save_step/save_step.py\",\n",
    "                         arguments=[\"--preprocessedoutputdir\", preprocess_pd, \"--trainoutputdir\", train_pd, \n",
    "                                    \"--interpretabilityoutputdir\", interpretability_pd, \"--outputsdir\", outputs_dr],\n",
    "                         inputs=[preprocess_pd, train_pd, interpretability_pd, outputs_dr],\n",
    "                         outputs=[],\n",
    "                         compute_target=compute_target, \n",
    "                         source_directory=\"./../\",\n",
    "                         runconfig=runconfig,\n",
    "                         allow_reuse=False)\n",
    "\n",
    "# Construct the ML pipeline from the steps\n",
    "steps = [step1, step2, step3, step4]\n",
    "single_train_pipeline = Pipeline(workspace=ws, steps=steps)\n",
    "single_train_pipeline.validate()\n",
    "\n",
    "# Define a new experiment and submit a new pipeline run to the compute target.\n",
    "experiment = Experiment(workspace=ws, name='MultiTrainExperiment_v1')\n",
    "train_run = experiment.submit(single_train_pipeline, regenerate_outputs=False)\n",
    "print(\"Pipeline is submitted for execution\")\n",
    "\n",
    "# Move AML ignore file back to original folder\n",
    "aml_ignore_path = shutil.move(aml_ignore_path, './.amlignore') "
   ]
  },
  {
   "cell_type": "markdown",
   "metadata": {},
   "source": [
    "### Publish the pipeline\n",
    "Wait for the pipeline run to finish. Then publish the pipeline. The pipeline will be visible as an endpoint in the Pipelines tab in the workspace on Azure Machine Learning studio. Delete the training compute cluster to prevent further cost."
   ]
  },
  {
   "cell_type": "code",
   "execution_count": null,
   "metadata": {},
   "outputs": [],
   "source": [
    "# Wait for the pipeline to finish running.\n",
    "train_run.wait_for_completion()\n",
    "\n",
    "# Publish the pipeline.\n",
    "published_pipeline = train_run.publish_pipeline(\n",
    "     name=\"HIFIS-v2 Training Pipeline\",\n",
    "     description=\"Azure ML Pipeline that trains HIFIS-v2 model and runs LIME submodular pick.\",\n",
    "     version=\"1.0\")"
   ]
  },
  {
   "cell_type": "markdown",
   "metadata": {},
   "source": [
    "### Delete the compute target\n",
    "Delete the training compute cluster to prevent further cost."
   ]
  },
  {
   "cell_type": "code",
   "execution_count": null,
   "metadata": {},
   "outputs": [],
   "source": [
    "# Delete compute cluster to avoid extra charges\n",
    "compute_target.delete()"
   ]
  }
 ],
 "metadata": {
  "kernelspec": {
   "display_name": "Python 3",
   "language": "python",
   "name": "python3"
  },
  "language_info": {
   "codemirror_mode": {
    "name": "ipython",
    "version": 3
   },
   "file_extension": ".py",
   "mimetype": "text/x-python",
   "name": "python",
   "nbconvert_exporter": "python",
   "pygments_lexer": "ipython3",
   "version": "3.7.3"
  }
 },
 "nbformat": 4,
 "nbformat_minor": 2
}
